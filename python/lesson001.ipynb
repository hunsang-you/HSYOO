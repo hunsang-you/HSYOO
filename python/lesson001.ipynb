{
 "cells": [
  {
   "cell_type": "code",
   "execution_count": 3,
   "id": "c093475e",
   "metadata": {},
   "outputs": [
    {
     "name": "stdout",
     "output_type": "stream",
     "text": [
      "hello, Python\n"
     ]
    }
   ],
   "source": [
    "#파이썬을 이용한 프로그래밍기초\n",
    "# Jupyter Notebook환경에서는 셀에 명령어를 입력하고 \n",
    "# 실행한다. (Ctrl + Enter, Shift + Enter, Alt + Enter)\n",
    "print(\"hello, Python\")"
   ]
  },
  {
   "cell_type": "code",
   "execution_count": 4,
   "id": "860f23f6",
   "metadata": {},
   "outputs": [
    {
     "name": "stdout",
     "output_type": "stream",
     "text": [
      "10\n"
     ]
    }
   ],
   "source": [
    "a= 10\n",
    "print(a)"
   ]
  },
  {
   "cell_type": "code",
   "execution_count": null,
   "id": "e4007741",
   "metadata": {},
   "outputs": [],
   "source": [
    "#데이터의 선언과 사용 => 동적할당이 가능 dynamic allocation\n",
    "#파이썬에서는 필요에 따라 바로 사용한다.\n",
    "a = 10.1"
   ]
  },
  {
   "cell_type": "code",
   "execution_count": 7,
   "id": "52adb38d",
   "metadata": {},
   "outputs": [],
   "source": [
    "#표현가능한 숫자의 범위\n",
    "c = 123456789012345678901234567890\n"
   ]
  },
  {
   "cell_type": "code",
   "execution_count": null,
   "id": "d82fa3c2",
   "metadata": {},
   "outputs": [],
   "source": [
    "# 문자열의 표현\n",
    "mystring = \"korea\""
   ]
  },
  {
   "cell_type": "code",
   "execution_count": 1,
   "id": "dd9a9b02",
   "metadata": {},
   "outputs": [
    {
     "name": "stdout",
     "output_type": "stream",
     "text": [
      "This sentence is output to the screen\n"
     ]
    }
   ],
   "source": [
    "# 파이썬의 입출력문\n",
    "# 출력문\n",
    "print('This sentence is output to the screen')"
   ]
  },
  {
   "cell_type": "code",
   "execution_count": 2,
   "id": "c4fec974",
   "metadata": {},
   "outputs": [
    {
     "name": "stdout",
     "output_type": "stream",
     "text": [
      "The value of a is 5\n"
     ]
    }
   ],
   "source": [
    "# pirint()의 또다른 예\n",
    "# 무낮열과 변수값 동시 출력\n",
    "a = 5\n",
    "print('The value of a is' , a)"
   ]
  },
  {
   "cell_type": "code",
   "execution_count": 5,
   "id": "a3461c9a",
   "metadata": {},
   "outputs": [
    {
     "name": "stdout",
     "output_type": "stream",
     "text": [
      "1 2 3 4\n",
      "1*2*3*4\n",
      "1#2#3#4&-------\n"
     ]
    }
   ],
   "source": [
    "# print()에서 sep와 end사용\n",
    "print(1, 2, 3, 4)\n",
    "print(1, 2, 3, 4, sep='*')\n",
    "print(1, 2, 3, 4, sep='#', end='&')\n",
    "print('-------')"
   ]
  },
  {
   "cell_type": "code",
   "execution_count": 14,
   "id": "9ceabba5",
   "metadata": {},
   "outputs": [
    {
     "name": "stdout",
     "output_type": "stream",
     "text": [
      "The value of x is 5 and y is 10\n"
     ]
    }
   ],
   "source": [
    "# format 활용\n",
    "x = 5; y= 10\n",
    "print('The value of x is {} and y is {}'.format(x,y))\n"
   ]
  },
  {
   "cell_type": "code",
   "execution_count": 17,
   "id": "83b8766b",
   "metadata": {},
   "outputs": [
    {
     "name": "stdout",
     "output_type": "stream",
     "text": [
      "The value of x is 5 and y is 10\n"
     ]
    }
   ],
   "source": [
    "# format 활용\n",
    "\n",
    "print('The value of x is {x} and y is {y}'.format(y= 10,x=5))\n"
   ]
  },
  {
   "cell_type": "code",
   "execution_count": 31,
   "id": "ffbf50c3",
   "metadata": {},
   "outputs": [
    {
     "name": "stdout",
     "output_type": "stream",
     "text": [
      "print formatting...10.00,  3.14\n"
     ]
    }
   ],
   "source": [
    "x = 10; y = 3.14\n",
    "print('print formatting...%5.2f, %5.2f'%(x,y))"
   ]
  },
  {
   "cell_type": "code",
   "execution_count": 36,
   "id": "eb4234f7",
   "metadata": {},
   "outputs": [
    {
     "name": "stdout",
     "output_type": "stream",
     "text": [
      "숫자를 넣어주세요5\n",
      "<class 'int'>\n"
     ]
    }
   ],
   "source": [
    "# Python input\n",
    "# input()\n",
    "a = int(input(\"숫자를 넣어주세요\"))\n",
    "print(type(a))\n"
   ]
  },
  {
   "cell_type": "code",
   "execution_count": 45,
   "id": "47042aab",
   "metadata": {},
   "outputs": [
    {
     "name": "stdout",
     "output_type": "stream",
     "text": [
      "3.141592653589793\n",
      "2.718281828459045\n"
     ]
    }
   ],
   "source": [
    "# 파이썬의 모듈 임포트(가져오기)\n",
    "import math\n",
    "print(math.pi)\n",
    "print(math.e)"
   ]
  },
  {
   "cell_type": "code",
   "execution_count": 47,
   "id": "eab86234",
   "metadata": {},
   "outputs": [
    {
     "data": {
      "text/plain": [
       "['c:\\\\HSYOO\\\\python',\n",
       " 'c:\\\\developer\\\\python39\\\\python39.zip',\n",
       " 'c:\\\\developer\\\\python39\\\\DLLs',\n",
       " 'c:\\\\developer\\\\python39\\\\lib',\n",
       " 'c:\\\\developer\\\\python39',\n",
       " '',\n",
       " 'c:\\\\developer\\\\python39\\\\lib\\\\site-packages',\n",
       " 'c:\\\\developer\\\\python39\\\\lib\\\\site-packages\\\\win32',\n",
       " 'c:\\\\developer\\\\python39\\\\lib\\\\site-packages\\\\win32\\\\lib',\n",
       " 'c:\\\\developer\\\\python39\\\\lib\\\\site-packages\\\\Pythonwin',\n",
       " 'c:\\\\developer\\\\python39\\\\lib\\\\site-packages\\\\IPython\\\\extensions',\n",
       " 'C:\\\\Users\\\\user16\\\\.ipython']"
      ]
     },
     "execution_count": 47,
     "metadata": {},
     "output_type": "execute_result"
    }
   ],
   "source": [
    "import sys\n",
    "sys.path"
   ]
  },
  {
   "cell_type": "code",
   "execution_count": null,
   "id": "f38961cc",
   "metadata": {},
   "outputs": [],
   "source": []
  },
  {
   "cell_type": "code",
   "execution_count": null,
   "id": "1faaf1cc",
   "metadata": {},
   "outputs": [],
   "source": []
  }
 ],
 "metadata": {
  "kernelspec": {
   "display_name": "Python 3 (ipykernel)",
   "language": "python",
   "name": "python3"
  },
  "language_info": {
   "codemirror_mode": {
    "name": "ipython",
    "version": 3
   },
   "file_extension": ".py",
   "mimetype": "text/x-python",
   "name": "python",
   "nbconvert_exporter": "python",
   "pygments_lexer": "ipython3",
   "version": "3.9.6"
  }
 },
 "nbformat": 4,
 "nbformat_minor": 5
}

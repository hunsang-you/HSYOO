{
 "cells": [
  {
   "cell_type": "code",
   "execution_count": 3,
   "id": "c093475e",
   "metadata": {},
   "outputs": [
    {
     "name": "stdout",
     "output_type": "stream",
     "text": [
      "hello, Python\n"
     ]
    }
   ],
   "source": [
    "#파이썬을 이용한 프로그래밍기초\n",
    "# Jupyter Notebook환경에서는 셀에 명령어를 입력하고 \n",
    "# 실행한다. (Ctrl + Enter, Shift + Enter, Alt + Enter)\n",
    "print(\"hello, Python\")"
   ]
  },
  {
   "cell_type": "code",
   "execution_count": 4,
   "id": "860f23f6",
   "metadata": {},
   "outputs": [
    {
     "name": "stdout",
     "output_type": "stream",
     "text": [
      "10\n"
     ]
    }
   ],
   "source": [
    "a= 10\n",
    "print(a)"
   ]
  },
  {
   "cell_type": "code",
   "execution_count": null,
   "id": "e4007741",
   "metadata": {},
   "outputs": [],
   "source": [
    "#데이터의 선언과 사용 => 동적할당이 가능 dynamic allocation\n",
    "#파이썬에서는 필요에 따라 바로 사용한다.\n",
    "a = 10.1"
   ]
  },
  {
   "cell_type": "code",
   "execution_count": 7,
   "id": "52adb38d",
   "metadata": {},
   "outputs": [],
   "source": [
    "#표현가능한 숫자의 범위\n",
    "c = 123456789012345678901234567890\n"
   ]
  },
  {
   "cell_type": "code",
   "execution_count": null,
   "id": "d82fa3c2",
   "metadata": {},
   "outputs": [],
   "source": [
    "# 문자열의 표현\n",
    "mystring = \"korea\""
   ]
  }
 ],
 "metadata": {
  "kernelspec": {
   "display_name": "Python 3 (ipykernel)",
   "language": "python",
   "name": "python3"
  },
  "language_info": {
   "codemirror_mode": {
    "name": "ipython",
    "version": 3
   },
   "file_extension": ".py",
   "mimetype": "text/x-python",
   "name": "python",
   "nbconvert_exporter": "python",
   "pygments_lexer": "ipython3",
   "version": "3.9.6"
  }
 },
 "nbformat": 4,
 "nbformat_minor": 5
}

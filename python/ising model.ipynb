{
 "cells": [
  {
   "cell_type": "code",
   "execution_count": null,
   "id": "8e92904d",
   "metadata": {},
   "outputs": [],
   "source": [
    "import numpy as np\n",
    "\n",
    "def random_spin_field(X, Y):\n",
    "    return np.random.choice([-1, 1], size=(X, Y))\n",
    "\n",
    "random_spin_field(10, 10)\n",
    "\n",
    "# pip install\n",
    "from PIL import Image\n",
    "\n",
    "def display_spin_field(field):\n",
    "    return Image.fromarray(np.uint8((field + 1) * 0.5 * 255)) #0...255\n",
    "\n",
    "display_spin_field(random_spin_field(200, 200))\n",
    "\n",
    "\n",
    "def ising_step(field, beta = 0.4):\n",
    "    X, Y  = field.shape\n",
    "    for x_offset in range(2):\n",
    "        for y_offset in range(2):\n",
    "            for x in range(x_offset, X, 2):\n",
    "                for y in range(y_offset, Y, 2):\n",
    "                    _ising_update(field, x, y, beta)\n",
    "    return field\n",
    "    \n",
    "def _ising_update(field, x, y, beta):\n",
    "    total = 0\n",
    "    X ,Y = field.shape\n",
    "    for i in range(x-1, x+2):\n",
    "        for j in range(y-1, y+2):\n",
    "            if i == x and j == y:\n",
    "                continue\n",
    "            total += field[i % X, j % Y]\n",
    "    dE = 2 * field[x, y] * total\n",
    "    if dE <= 0:\n",
    "        field[x, y] *= -1\n",
    "    elif np.exp(-dE * beta) > np.random.rand():\n",
    "        field[x, y] *= -1\n",
    "  \n",
    "    display_spin_field(ising_step(random_spin_field(200, 200)))\n",
    "\n",
    "from ipywidgets import interact\n",
    "\n",
    "def display_ising_sequence(images):\n",
    "    def _show(frame = (0, len(images) - 1)):\n",
    "        return display_spin_field(images[frame])\n",
    "    return interact(_show)\n",
    "\n",
    "\n",
    "images = [random_spin_field(200,200)]\n",
    "for i in range(100):\n",
    "    images.append(ising_step(images[-1].copy()))\n",
    "display_ising_sequence(images)"
   ]
  },
  {
   "cell_type": "code",
   "execution_count": null,
   "id": "99565c32",
   "metadata": {},
   "outputs": [],
   "source": []
  }
 ],
 "metadata": {
  "kernelspec": {
   "display_name": "Python 3 (ipykernel)",
   "language": "python",
   "name": "python3"
  },
  "language_info": {
   "codemirror_mode": {
    "name": "ipython",
    "version": 3
   },
   "file_extension": ".py",
   "mimetype": "text/x-python",
   "name": "python",
   "nbconvert_exporter": "python",
   "pygments_lexer": "ipython3",
   "version": "3.9.6"
  }
 },
 "nbformat": 4,
 "nbformat_minor": 5
}

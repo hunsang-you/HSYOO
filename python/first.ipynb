{
 "cells": [
  {
   "cell_type": "code",
   "execution_count": 2,
   "id": "6cf2efd5",
   "metadata": {},
   "outputs": [
    {
     "name": "stdout",
     "output_type": "stream",
     "text": [
      "헬로우 파이썬\n"
     ]
    }
   ],
   "source": [
    "print(\"헬로우 파이썬\")"
   ]
  },
  {
   "cell_type": "code",
   "execution_count": 1,
   "id": "747f5bb9",
   "metadata": {},
   "outputs": [
    {
     "name": "stdout",
     "output_type": "stream",
     "text": [
      "123\n"
     ]
    }
   ],
   "source": [
    "A = 123\n",
    "print(A)"
   ]
  },
  {
   "cell_type": "code",
   "execution_count": 10,
   "id": "d5ac8160",
   "metadata": {
    "scrolled": true
   },
   "outputs": [
    {
     "name": "stdout",
     "output_type": "stream",
     "text": [
      "['False', 'None', 'True', '__peg_parser__', 'and', 'as', 'assert', 'async', 'await', 'break', 'class', 'continue', 'def', 'del', 'elif', 'else', 'except', 'finally', 'for', 'from', 'global', 'if', 'import', 'in', 'is', 'lambda', 'nonlocal', 'not', 'or', 'pass', 'raise', 'return', 'try', 'while', 'with', 'yield']\n"
     ]
    }
   ],
   "source": [
    "import keyword\n",
    "print(keyword.kwlist)"
   ]
  },
  {
   "cell_type": "code",
   "execution_count": 18,
   "id": "72dca280",
   "metadata": {},
   "outputs": [
    {
     "name": "stdout",
     "output_type": "stream",
     "text": [
      "<class 'int'>\n",
      "<class 'float'>\n",
      "<class 'complex'>\n",
      "<class 'str'>\n",
      "<class 'str'>\n",
      "<class 'bool'>\n"
     ]
    }
   ],
   "source": [
    "a = 10     #정수형\n",
    "b = 3.14   #실수형\n",
    "c = 3 + 4j #복소수형\n",
    "d = 'k'   #문자\n",
    "e = 'korea' #문자열\n",
    "f = True  #부울형\n",
    "\n",
    "print(type(a))\n",
    "print(type(b))\n",
    "print(type(c))\n",
    "print(type(d))\n",
    "print(type(e))\n",
    "print(type(f))\n"
   ]
  },
  {
   "cell_type": "code",
   "execution_count": 27,
   "id": "6f9bfdd7",
   "metadata": {},
   "outputs": [
    {
     "name": "stdout",
     "output_type": "stream",
     "text": [
      "<class 'float'>\n"
     ]
    }
   ],
   "source": [
    "a = 1.2\n",
    "print(type(a))\n"
   ]
  },
  {
   "cell_type": "code",
   "execution_count": 28,
   "id": "044c8dd1",
   "metadata": {
    "scrolled": true
   },
   "outputs": [
    {
     "name": "stdout",
     "output_type": "stream",
     "text": [
      "1.2\n"
     ]
    },
    {
     "ename": "NameError",
     "evalue": "name 'a' is not defined",
     "output_type": "error",
     "traceback": [
      "\u001b[1;31m---------------------------------------------------------------------------\u001b[0m",
      "\u001b[1;31mNameError\u001b[0m                                 Traceback (most recent call last)",
      "\u001b[1;32m~\\AppData\\Local\\Temp/ipykernel_5464/3563035178.py\u001b[0m in \u001b[0;36m<module>\u001b[1;34m\u001b[0m\n\u001b[0;32m      1\u001b[0m \u001b[0mprint\u001b[0m\u001b[1;33m(\u001b[0m\u001b[0ma\u001b[0m\u001b[1;33m)\u001b[0m\u001b[1;33m\u001b[0m\u001b[1;33m\u001b[0m\u001b[0m\n\u001b[0;32m      2\u001b[0m \u001b[1;32mdel\u001b[0m \u001b[0ma\u001b[0m\u001b[1;33m\u001b[0m\u001b[1;33m\u001b[0m\u001b[0m\n\u001b[1;32m----> 3\u001b[1;33m \u001b[0mprint\u001b[0m\u001b[1;33m(\u001b[0m\u001b[0ma\u001b[0m\u001b[1;33m)\u001b[0m\u001b[1;33m\u001b[0m\u001b[1;33m\u001b[0m\u001b[0m\n\u001b[0m",
      "\u001b[1;31mNameError\u001b[0m: name 'a' is not defined"
     ]
    }
   ],
   "source": [
    "print(a)\n",
    "del a\n",
    "print(a)"
   ]
  },
  {
   "cell_type": "code",
   "execution_count": 34,
   "id": "93a196ea",
   "metadata": {},
   "outputs": [
    {
     "name": "stdout",
     "output_type": "stream",
     "text": [
      "3\n",
      "korea\n"
     ]
    }
   ],
   "source": [
    "print(1+2)\n",
    "print(\"korea\")"
   ]
  },
  {
   "cell_type": "code",
   "execution_count": 50,
   "id": "020fac57",
   "metadata": {},
   "outputs": [
    {
     "name": "stdout",
     "output_type": "stream",
     "text": [
      "숫자를 입력해주세요 : 5\n",
      "7\n"
     ]
    }
   ],
   "source": [
    "a = int(input(\"숫자를 입력해주세요 : \"))\n",
    "print(a + 2 )\n"
   ]
  },
  {
   "cell_type": "code",
   "execution_count": 58,
   "id": "d24e5bb6",
   "metadata": {},
   "outputs": [
    {
     "name": "stdout",
     "output_type": "stream",
     "text": [
      "10\n",
      "20\n",
      "30\n"
     ]
    }
   ],
   "source": [
    "a, b, c = 10, 20, 30\n",
    "print(a)\n",
    "print(b)\n",
    "print(c)"
   ]
  },
  {
   "cell_type": "code",
   "execution_count": 61,
   "id": "c57e4e97",
   "metadata": {},
   "outputs": [
    {
     "name": "stdout",
     "output_type": "stream",
     "text": [
      "1\n",
      "2\n",
      "125\n"
     ]
    }
   ],
   "source": [
    "#연산자\n",
    "#산술연산자 : +, - , *, /, //, %, **\n",
    "print(5 // 3)\n",
    "print(5 % 3)\n",
    "print(5 ** 3)"
   ]
  },
  {
   "cell_type": "code",
   "execution_count": 70,
   "id": "6cdf782c",
   "metadata": {},
   "outputs": [
    {
     "name": "stdout",
     "output_type": "stream",
     "text": [
      "True\n",
      "False\n",
      "False\n",
      "True\n"
     ]
    }
   ],
   "source": [
    "#관계연산자 : >, <, >=, <=, ==, !=\n",
    "print(10 > 5)\n",
    "print(10 < 5)\n",
    "print(10 == 5)\n",
    "print(10 != 5)"
   ]
  },
  {
   "cell_type": "code",
   "execution_count": 79,
   "id": "2de38138",
   "metadata": {},
   "outputs": [
    {
     "name": "stdout",
     "output_type": "stream",
     "text": [
      "True\n",
      "False\n",
      "True\n",
      "False\n"
     ]
    }
   ],
   "source": [
    "#논리연산자 : and, or, not\n",
    "print(10 > 5 and 5> 3)\n",
    "print(10 > 5 and 5< 3)\n",
    "print(10 > 5 or 5> 3)\n",
    "print(not(10 > 5))"
   ]
  },
  {
   "cell_type": "code",
   "execution_count": 155,
   "id": "da57fcaa",
   "metadata": {},
   "outputs": [
    {
     "name": "stdout",
     "output_type": "stream",
     "text": [
      "<class 'list'>\n",
      "1\n",
      "5\n",
      "[1, 3, 5]\n"
     ]
    }
   ],
   "source": [
    "a = [1,2,3,4,5] #리스트\n",
    "print(type(a))\n",
    "print(a[0]) # 리스트 특정 요소 접근,인덱스 사용\n",
    "print(a[-1]) # 리스트의 마지막요소\n",
    "#슬라이싱\n",
    "print(a[0:5:2]) # 이상 : 미만 : 증감\n"
   ]
  },
  {
   "cell_type": "code",
   "execution_count": 156,
   "id": "dfb822af",
   "metadata": {},
   "outputs": [
    {
     "name": "stdout",
     "output_type": "stream",
     "text": [
      "[1, 2, 3, 4, 5, 6]\n",
      "2\n",
      "[1, 2, 3, 100, 4, 5, 6]\n"
     ]
    }
   ],
   "source": [
    "a.append(6)\n",
    "print(a)\n",
    "a.insert(3,100)\n",
    "print(a.index(3))\n",
    "print(a)"
   ]
  },
  {
   "cell_type": "code",
   "execution_count": 157,
   "id": "c1cce7f4",
   "metadata": {},
   "outputs": [
    {
     "name": "stdout",
     "output_type": "stream",
     "text": [
      "[1, 2, 3, 100, 4, 5]\n"
     ]
    }
   ],
   "source": [
    "a.pop()\n",
    "print(a)"
   ]
  },
  {
   "cell_type": "code",
   "execution_count": 158,
   "id": "578e0812",
   "metadata": {},
   "outputs": [
    {
     "name": "stdout",
     "output_type": "stream",
     "text": [
      "[1, 2, 3, 4, 5]\n"
     ]
    }
   ],
   "source": [
    "a.remove(100)\n",
    "print(a)"
   ]
  },
  {
   "cell_type": "code",
   "execution_count": 159,
   "id": "78f6e67a",
   "metadata": {},
   "outputs": [
    {
     "name": "stdout",
     "output_type": "stream",
     "text": [
      "[1, 2, 3, 4, 5, 1000, 2000]\n"
     ]
    }
   ],
   "source": [
    "b = [1000, 2000]\n",
    "a.extend(b)\n",
    "print(a)"
   ]
  },
  {
   "cell_type": "code",
   "execution_count": 160,
   "id": "e82f2c87",
   "metadata": {},
   "outputs": [
    {
     "name": "stdout",
     "output_type": "stream",
     "text": [
      "0\n"
     ]
    }
   ],
   "source": [
    "print(a.count(6))"
   ]
  },
  {
   "cell_type": "code",
   "execution_count": 161,
   "id": "81f0e3e4",
   "metadata": {
    "scrolled": true
   },
   "outputs": [
    {
     "name": "stdout",
     "output_type": "stream",
     "text": [
      "[]\n"
     ]
    }
   ],
   "source": [
    "a.clear()\n",
    "print(a)"
   ]
  },
  {
   "cell_type": "code",
   "execution_count": 162,
   "id": "fbabff30",
   "metadata": {},
   "outputs": [
    {
     "name": "stdout",
     "output_type": "stream",
     "text": [
      "<class 'tuple'>\n",
      "(1, 2, 3)\n"
     ]
    }
   ],
   "source": [
    "a = (1,2,3)\n",
    "print(type(a))\n",
    "print(a)"
   ]
  },
  {
   "cell_type": "code",
   "execution_count": 163,
   "id": "c364cf24",
   "metadata": {},
   "outputs": [
    {
     "name": "stdout",
     "output_type": "stream",
     "text": [
      "(1, 2, 3, 4)\n"
     ]
    }
   ],
   "source": [
    "a = list(a)\n",
    "a.append(4)\n",
    "a = tuple(a)\n",
    "print(a)"
   ]
  },
  {
   "cell_type": "code",
   "execution_count": 167,
   "id": "e5c1e1d8",
   "metadata": {},
   "outputs": [
    {
     "name": "stdout",
     "output_type": "stream",
     "text": [
      "{'이름': '홍길동', '주소': '청주시 상당구'}\n",
      "<class 'dict'>\n"
     ]
    }
   ],
   "source": [
    "a = {'이름' : '홍길동', '주소' : '청주시 상당구'}\n",
    "print(a)\n",
    "print(type(a))"
   ]
  },
  {
   "cell_type": "code",
   "execution_count": 172,
   "id": "62cdc909",
   "metadata": {},
   "outputs": [
    {
     "name": "stdout",
     "output_type": "stream",
     "text": [
      "홍길동\n",
      "청주시 상당구\n"
     ]
    }
   ],
   "source": [
    "print(a['이름'])\n",
    "print(a['주소'])"
   ]
  },
  {
   "cell_type": "code",
   "execution_count": 179,
   "id": "b77f5df7",
   "metadata": {},
   "outputs": [
    {
     "name": "stdout",
     "output_type": "stream",
     "text": [
      "{1, 2, 3, 4, 5}\n",
      "<class 'set'>\n",
      "[1, 5, 3, 4, 2, 3, 3, 3, 3, 3, 3]\n",
      "<class 'list'>\n"
     ]
    }
   ],
   "source": [
    "a = {1,5,3,4,2,3,3,3,3,3,3}\n",
    "b = [1,5,3,4,2,3,3,3,3,3,3]\n",
    "print(a)\n",
    "print(type(a))\n",
    "print(b)\n",
    "print(type(b))"
   ]
  },
  {
   "cell_type": "code",
   "execution_count": 180,
   "id": "b70629cd",
   "metadata": {},
   "outputs": [
    {
     "name": "stdout",
     "output_type": "stream",
     "text": [
      "{1, 2, 3, 4, 5}\n"
     ]
    }
   ],
   "source": [
    "b =set(b)\n",
    "print(b)\n"
   ]
  },
  {
   "cell_type": "code",
   "execution_count": 185,
   "id": "80852ac3",
   "metadata": {},
   "outputs": [
    {
     "name": "stdout",
     "output_type": "stream",
     "text": [
      "{1, 2, 3, 4, 5}\n",
      "{3, 4, 5, 6, 7}\n"
     ]
    }
   ],
   "source": [
    "b = {3,4,5,6,7}\n",
    "print(a)\n",
    "print(b)"
   ]
  },
  {
   "cell_type": "code",
   "execution_count": 192,
   "id": "19d29345",
   "metadata": {},
   "outputs": [
    {
     "name": "stdout",
     "output_type": "stream",
     "text": [
      "{3, 4, 5}\n",
      "{1, 2, 3, 4, 5, 6, 7}\n",
      "{1, 2}\n"
     ]
    }
   ],
   "source": [
    "print(a.intersection(b)) #교집합 a & b\n",
    "print(a.union (b)) #합집합  a | b\n",
    "print(a.difference (b)) #차집합 a - b"
   ]
  },
  {
   "cell_type": "code",
   "execution_count": 81,
   "id": "34b7633e",
   "metadata": {},
   "outputs": [
    {
     "name": "stdout",
     "output_type": "stream",
     "text": [
      "<class 'list'>\n"
     ]
    }
   ],
   "source": [
    "b = list() #빈 리스트\n",
    "print(type(b))"
   ]
  },
  {
   "cell_type": "code",
   "execution_count": 4,
   "id": "bdce91b4",
   "metadata": {},
   "outputs": [
    {
     "name": "stdout",
     "output_type": "stream",
     "text": [
      "30\n"
     ]
    }
   ],
   "source": [
    "#사용자 정의함수\n",
    "#함수 정의\n",
    "#def 함수이름(패러미터리스트) :\n",
    "#      코드블록\n",
    "#\n",
    "\n",
    "\n",
    "def sum(a, b):\n",
    "    x = a + b\n",
    "    return x\n",
    "\n",
    "print(sum(10,20)) #함수 호출"
   ]
  },
  {
   "cell_type": "code",
   "execution_count": 29,
   "id": "f7f446f0",
   "metadata": {},
   "outputs": [
    {
     "name": "stdout",
     "output_type": "stream",
     "text": [
      "3.5\n",
      "a\n",
      "97\n",
      "0o10\n",
      "0x11\n",
      "3\n",
      "<class 'str'>\n",
      "9\n",
      "3\n",
      "125\n",
      "4\n",
      "[0, 1, 2, 3, 4]\n"
     ]
    }
   ],
   "source": [
    "#내장함수\n",
    "# abs(x) : 절대\n",
    "# chr(97) : 아스키코드값을 문자로 변환 출력\n",
    "# ord('a') : 문자를 아스키코드값으로 변환 출력\n",
    "# oct() : 10진수를 8진수로 변환 출력\n",
    "# hex() : 10진수를 16진수로 변환 출력\n",
    "# int()\n",
    "# str()\n",
    "# max(iterable x)\n",
    "\n",
    "\n",
    "print(abs(-3.5))\n",
    "print(chr(97))\n",
    "print(ord('a'))\n",
    "print(oct(8))\n",
    "print(hex(17))\n",
    "print(int('3'))\n",
    "print(type(str(3)))\n",
    "print(max([3,9,4,5]))\n",
    "print(min([3,9,4,5]))\n",
    "print(pow(5,3))\n",
    "print(len([3,9,4,5]))\n",
    "print(list(range(5)))"
   ]
  },
  {
   "cell_type": "code",
   "execution_count": 38,
   "id": "4cc5449b",
   "metadata": {},
   "outputs": [
    {
     "name": "stdout",
     "output_type": "stream",
     "text": [
      "Requirement already satisfied: numpy in c:\\developer\\python39\\lib\\site-packages (1.21.0)\n"
     ]
    }
   ],
   "source": [
    "# 데이터분석을 위한 라이브러리\n",
    "# numpy : \n",
    "# 행렬이나 대규모 다차원 ㅐㅂ열을 쉽게 처리하는파이썬 라이브러리\n",
    "\n",
    "# numpy 모듈 설치\n",
    "!pip install numpy"
   ]
  },
  {
   "cell_type": "code",
   "execution_count": 2,
   "id": "69c46278",
   "metadata": {},
   "outputs": [
    {
     "name": "stdout",
     "output_type": "stream",
     "text": [
      "1.21.0\n"
     ]
    }
   ],
   "source": [
    "# numpy 모듈 import\n",
    "import numpy as np\n",
    "print(np.__version__)"
   ]
  },
  {
   "cell_type": "code",
   "execution_count": 3,
   "id": "f60b2122",
   "metadata": {},
   "outputs": [
    {
     "name": "stdout",
     "output_type": "stream",
     "text": [
      "[1 2 3 4 5]\n",
      "<class 'numpy.ndarray'>\n"
     ]
    }
   ],
   "source": [
    "#배열의 생성\n",
    "ar1 = np.array([1,2,3,4,5])\n",
    "print(ar1)\n",
    "print(type(ar1))"
   ]
  },
  {
   "cell_type": "code",
   "execution_count": 4,
   "id": "8728a58d",
   "metadata": {},
   "outputs": [
    {
     "name": "stdout",
     "output_type": "stream",
     "text": [
      "[[10 20 30]\n",
      " [40 50 60]]\n"
     ]
    }
   ],
   "source": [
    "# 리스트 값을 나열하여 ndarray 생성\n",
    "ar2 = np.array([[10,20,30],[40,50,60]])\n",
    "print(ar2)"
   ]
  },
  {
   "cell_type": "code",
   "execution_count": 5,
   "id": "de5c8ada",
   "metadata": {},
   "outputs": [
    {
     "name": "stdout",
     "output_type": "stream",
     "text": [
      "[ 1  2  3  4  5  6  7  8  9 10]\n"
     ]
    }
   ],
   "source": [
    "# 값의 범위를 지정하여 ndarray 생성\n",
    "ar3 = np.arange(1,11)\n",
    "print(ar3)"
   ]
  },
  {
   "cell_type": "code",
   "execution_count": 38,
   "id": "2d55a71b",
   "metadata": {},
   "outputs": [
    {
     "name": "stdout",
     "output_type": "stream",
     "text": [
      "[[1 2 3]\n",
      " [4 5 6]\n",
      " [7 8 9]]\n"
     ]
    }
   ],
   "source": [
    "ar4 = np.arange(1,10).reshape(3,3)\n",
    "print(ar4)"
   ]
  },
  {
   "cell_type": "code",
   "execution_count": 7,
   "id": "68c3cbb8",
   "metadata": {},
   "outputs": [
    {
     "name": "stdout",
     "output_type": "stream",
     "text": [
      "[[0. 0. 0.]\n",
      " [0. 0. 0.]]\n"
     ]
    }
   ],
   "source": [
    "# 초기값과 구조를 지정하여 darray 생성\n",
    "ar5 = np.zeros((2,3))\n",
    "print(ar5)"
   ]
  },
  {
   "cell_type": "code",
   "execution_count": 22,
   "id": "01d2b715",
   "metadata": {},
   "outputs": [
    {
     "name": "stdout",
     "output_type": "stream",
     "text": [
      "[[20 30]\n",
      " [50 60]]\n"
     ]
    }
   ],
   "source": [
    "# ndarray 슬라이싱\n",
    "ar6 = ar2[0:2,1:3]\n",
    "print(ar6)"
   ]
  },
  {
   "cell_type": "code",
   "execution_count": 35,
   "id": "bcf439d8",
   "metadata": {},
   "outputs": [
    {
     "name": "stdout",
     "output_type": "stream",
     "text": [
      "[11 12 13 14 15]\n"
     ]
    }
   ],
   "source": [
    "# 리스트와 달리, 각 개별 요소들에 대하여 사칙연산을 적용할 수 있다.\n",
    "ar7 = ar1 + 10\n",
    "print(ar7)"
   ]
  },
  {
   "cell_type": "code",
   "execution_count": 33,
   "id": "346b3832",
   "metadata": {},
   "outputs": [
    {
     "name": "stdout",
     "output_type": "stream",
     "text": [
      "[1, 2, 3, 4, 5, 1, 2, 3, 4, 5, 1, 2, 3, 4, 5, 1, 2, 3, 4, 5, 1, 2, 3, 4, 5, 1, 2, 3, 4, 5, 1, 2, 3, 4, 5, 1, 2, 3, 4, 5, 1, 2, 3, 4, 5, 1, 2, 3, 4, 5]\n"
     ]
    }
   ],
   "source": [
    "lst = [1,2,3,4,5]\n",
    "lst = lst * 10\n",
    "print(lst)"
   ]
  },
  {
   "cell_type": "code",
   "execution_count": 34,
   "id": "f97f339b",
   "metadata": {},
   "outputs": [
    {
     "name": "stdout",
     "output_type": "stream",
     "text": [
      "[10 20 30 40 50]\n"
     ]
    }
   ],
   "source": [
    "ar8 = ar1 * 10\n",
    "print(ar8)"
   ]
  },
  {
   "cell_type": "code",
   "execution_count": 36,
   "id": "3ff0ddd1",
   "metadata": {},
   "outputs": [
    {
     "name": "stdout",
     "output_type": "stream",
     "text": [
      "[21 32 43 54 65]\n"
     ]
    }
   ],
   "source": [
    "ar9 = ar7 + ar8\n",
    "print(ar9)"
   ]
  },
  {
   "cell_type": "code",
   "execution_count": 41,
   "id": "bce14b20",
   "metadata": {},
   "outputs": [
    {
     "name": "stdout",
     "output_type": "stream",
     "text": [
      "[[300 360 420]\n",
      " [660 810 960]]\n"
     ]
    }
   ],
   "source": [
    "# 행렬곱 연산 가능 (np.dot())\n",
    "ar10 = np.dot(ar2, ar4)\n",
    "print(ar10)\n"
   ]
  },
  {
   "cell_type": "code",
   "execution_count": 42,
   "id": "7797567c",
   "metadata": {},
   "outputs": [
    {
     "name": "stdout",
     "output_type": "stream",
     "text": [
      "Collecting pandas\n",
      "  Downloading pandas-1.3.0-cp39-cp39-win_amd64.whl (10.2 MB)\n",
      "Requirement already satisfied: numpy>=1.17.3 in c:\\developer\\python39\\lib\\site-packages (from pandas) (1.21.0)\n",
      "Collecting pytz>=2017.3\n",
      "  Downloading pytz-2021.1-py2.py3-none-any.whl (510 kB)\n",
      "Requirement already satisfied: python-dateutil>=2.7.3 in c:\\developer\\python39\\lib\\site-packages (from pandas) (2.8.1)\n",
      "Requirement already satisfied: six>=1.5 in c:\\developer\\python39\\lib\\site-packages (from python-dateutil>=2.7.3->pandas) (1.16.0)\n",
      "Installing collected packages: pytz, pandas\n",
      "Successfully installed pandas-1.3.0 pytz-2021.1\n"
     ]
    }
   ],
   "source": [
    "# pandas : 테이블 형태를 다루는 라이브러리\n",
    "# install\n",
    "!pip install pandas"
   ]
  },
  {
   "cell_type": "code",
   "execution_count": null,
   "id": "cc63ff14",
   "metadata": {},
   "outputs": [],
   "source": [
    "# import\n",
    "import pandas as pd\n",
    "print(pd.__version__)"
   ]
  },
  {
   "cell_type": "code",
   "execution_count": 45,
   "id": "de3fca35",
   "metadata": {},
   "outputs": [
    {
     "name": "stdout",
     "output_type": "stream",
     "text": [
      "[10, 20, 30, 40, 50]\n",
      "<class 'list'>\n"
     ]
    }
   ],
   "source": [
    "# series 자료형, 1차원 자료구조\n",
    "# dataframe 자료형, 2차원 자료구조\n",
    "\n",
    "#series 생성\n",
    "data1 = [10, 20, 30, 40, 50]\n",
    "print(data1)\n",
    "print(type(data1))\n"
   ]
  },
  {
   "cell_type": "code",
   "execution_count": 46,
   "id": "62ca6fca",
   "metadata": {},
   "outputs": [
    {
     "name": "stdout",
     "output_type": "stream",
     "text": [
      "0    10\n",
      "1    20\n",
      "2    30\n",
      "3    40\n",
      "4    50\n",
      "dtype: int64\n",
      "<class 'pandas.core.series.Series'>\n"
     ]
    }
   ],
   "source": [
    "sr1 = pd.Series(data1)\n",
    "print(sr1)\n",
    "print(type(sr1))"
   ]
  },
  {
   "cell_type": "code",
   "execution_count": 50,
   "id": "ca3369ed",
   "metadata": {},
   "outputs": [
    {
     "name": "stdout",
     "output_type": "stream",
     "text": [
      "0    1반\n",
      "1    2반\n",
      "2    3반\n",
      "3    4반\n",
      "4    5반\n",
      "dtype: object\n",
      "<class 'pandas.core.series.Series'>\n"
     ]
    }
   ],
   "source": [
    "data2 = ['1반', '2반', '3반', '4반', '5반']\n",
    "sr2 = pd.Series(data2)\n",
    "print(sr2)\n",
    "print(type(sr2))"
   ]
  },
  {
   "cell_type": "code",
   "execution_count": 51,
   "id": "df7ab120",
   "metadata": {},
   "outputs": [
    {
     "name": "stdout",
     "output_type": "stream",
     "text": [
      "0    101\n",
      "1    102\n",
      "2    103\n",
      "3    104\n",
      "4    105\n",
      "dtype: int64\n"
     ]
    }
   ],
   "source": [
    "# 값을 이용하여 Series 생성\n",
    "sr3 = pd.Series([101, 102, 103, 104, 105])\n",
    "print(sr3)"
   ]
  },
  {
   "cell_type": "code",
   "execution_count": 52,
   "id": "1f07e333",
   "metadata": {},
   "outputs": [
    {
     "name": "stdout",
     "output_type": "stream",
     "text": [
      "0    월\n",
      "1    화\n",
      "2    수\n",
      "3    목\n",
      "4    금\n",
      "dtype: object\n"
     ]
    }
   ],
   "source": [
    "sr4 = pd.Series(['월', '화', '수', '목', '금'])\n",
    "print(sr4)"
   ]
  },
  {
   "cell_type": "code",
   "execution_count": 53,
   "id": "cd74c2b8",
   "metadata": {},
   "outputs": [
    {
     "name": "stdout",
     "output_type": "stream",
     "text": [
      "1번    10\n",
      "2번    20\n",
      "3번    30\n",
      "4번    40\n",
      "5번    50\n",
      "dtype: int64\n"
     ]
    }
   ],
   "source": [
    "# 인덱스를 지정하여 Series 생성\n",
    "sr5 = pd.Series(data1, index=['1번', '2번', '3번', '4번', '5번'])\n",
    "print(sr5)"
   ]
  },
  {
   "cell_type": "code",
   "execution_count": 54,
   "id": "154bc8fc",
   "metadata": {},
   "outputs": [
    {
     "name": "stdout",
     "output_type": "stream",
     "text": [
      "1반    10\n",
      "2반    20\n",
      "3반    30\n",
      "4반    40\n",
      "5반    50\n",
      "dtype: int64\n"
     ]
    }
   ],
   "source": [
    "sr6 = pd.Series(data1, index = data2)\n",
    "print(sr6)"
   ]
  },
  {
   "cell_type": "code",
   "execution_count": 72,
   "id": "fbd6bd0c",
   "metadata": {},
   "outputs": [
    {
     "name": "stdout",
     "output_type": "stream",
     "text": [
      "30\n",
      "30\n",
      "3반    30\n",
      "4반    40\n",
      "dtype: int64\n",
      "3반    30\n",
      "4반    40\n",
      "5반    50\n",
      "dtype: int64\n"
     ]
    }
   ],
   "source": [
    "# Series 인덱싱\n",
    "print(sr6[2])  # 0, 1, 2 인덱스\n",
    "\n",
    "print(sr6['3반'])  # 선언한 인덱스 사용\n",
    "\n",
    "print(sr6[2:4]) # 슬라이싱\n",
    "print(sr6['3반' : '5반'])\n",
    "\n"
   ]
  },
  {
   "cell_type": "code",
   "execution_count": 73,
   "id": "10a3daed",
   "metadata": {},
   "outputs": [
    {
     "name": "stdout",
     "output_type": "stream",
     "text": [
      "Index(['1반', '2반', '3반', '4반', '5반'], dtype='object')\n"
     ]
    }
   ],
   "source": [
    "# Series의 인덱스 구하기\n",
    "print(sr6.index)"
   ]
  },
  {
   "cell_type": "code",
   "execution_count": 74,
   "id": "ba0ada42",
   "metadata": {},
   "outputs": [
    {
     "name": "stdout",
     "output_type": "stream",
     "text": [
      "[10 20 30 40 50]\n"
     ]
    }
   ],
   "source": [
    "# Series의 value 구하기\n",
    "print(sr6.values)"
   ]
  },
  {
   "cell_type": "code",
   "execution_count": 76,
   "id": "5794abc7",
   "metadata": {},
   "outputs": [
    {
     "name": "stdout",
     "output_type": "stream",
     "text": [
      "1반     20\n",
      "2반     40\n",
      "3반     60\n",
      "4반     80\n",
      "5반    100\n",
      "dtype: int64\n",
      "0    월월\n",
      "1    화화\n",
      "2    수수\n",
      "3    목목\n",
      "4    금금\n",
      "dtype: object\n"
     ]
    }
   ],
   "source": [
    "# Series 원소가 숫자이면 + : 덧셈연산\n",
    "# Series 원소가 문자이면 + : 연결\n",
    "print(sr6 + sr6)\n",
    "print(sr4 + sr4)"
   ]
  },
  {
   "cell_type": "code",
   "execution_count": 78,
   "id": "611302ce",
   "metadata": {},
   "outputs": [
    {
     "name": "stdout",
     "output_type": "stream",
     "text": [
      "{'year': [2018, 2019, 2020], 'sales': [100, 200, 300]}\n",
      "<class 'dict'>\n"
     ]
    }
   ],
   "source": [
    "# dataFrame 자료형\n",
    "data_dic = {'year' : [2018, 2019, 2020], 'sales' : [100, 200, 300]}\n",
    "print(data_dic)\n"
   ]
  },
  {
   "cell_type": "code",
   "execution_count": 79,
   "id": "38790f89",
   "metadata": {},
   "outputs": [
    {
     "name": "stdout",
     "output_type": "stream",
     "text": [
      "   year  sales\n",
      "0  2018    100\n",
      "1  2019    200\n",
      "2  2020    300\n"
     ]
    }
   ],
   "source": [
    "# 딕셔너리를 이용하여 DataFrame 생성\n",
    "df1 = pd.DataFrame(data_dic)\n",
    "print(df1)"
   ]
  },
  {
   "cell_type": "code",
   "execution_count": 87,
   "id": "b8f2f475",
   "metadata": {},
   "outputs": [
    {
     "name": "stdout",
     "output_type": "stream",
     "text": [
      "       1반   2반   3반\n",
      "중간고사  100   95   98\n",
      "기말고사   98   95   97\n"
     ]
    }
   ],
   "source": [
    "# 리스트를 이용하여 DataFrame 생성\n",
    "df2 = pd.DataFrame([[100, 95, 98], [98, 95, 97]], index = ['중간고사', '기말고사'], columns = ['1반', ' 2반', ' 3반'])\n",
    "print(df2)"
   ]
  },
  {
   "cell_type": "code",
   "execution_count": 115,
   "id": "25ee021a",
   "metadata": {},
   "outputs": [
    {
     "name": "stdout",
     "output_type": "stream",
     "text": [
      "[['20201101', '홍길동', 90, 100], ['20201102', '성춘향', 95, 95], ['20201103', '박문수', 90, 90]]\n"
     ]
    }
   ],
   "source": [
    "# 리스트를 사용하여 DataFrame 생성2\n",
    "data_df3 = [['20201101', '홍길동', 90, 100], ['20201102', '성춘향', 95, 95], ['20201103', '박문수', 90, 90]]\n",
    "print(data_df3)"
   ]
  },
  {
   "cell_type": "code",
   "execution_count": 116,
   "id": "6c7252b1",
   "metadata": {},
   "outputs": [],
   "source": [
    "df3 = pd.DataFrame(data_df3)"
   ]
  },
  {
   "cell_type": "code",
   "execution_count": 117,
   "id": "e0082576",
   "metadata": {},
   "outputs": [
    {
     "name": "stdout",
     "output_type": "stream",
     "text": [
      "         학번   이름  중간고사  기말고사\n",
      "0  20201101  홍길동    90   100\n",
      "1  20201102  성춘향    95    95\n",
      "2  20201103  박문수    90    90\n"
     ]
    }
   ],
   "source": [
    "# dataframe의 열이름 지정\n",
    "df3.columns = ['학번', '이름', '중간고사', '기말고사']\n",
    "print(df3)"
   ]
  },
  {
   "cell_type": "code",
   "execution_count": 118,
   "id": "03b94ded",
   "metadata": {
    "scrolled": true
   },
   "outputs": [
    {
     "data": {
      "text/html": [
       "<div>\n",
       "<style scoped>\n",
       "    .dataframe tbody tr th:only-of-type {\n",
       "        vertical-align: middle;\n",
       "    }\n",
       "\n",
       "    .dataframe tbody tr th {\n",
       "        vertical-align: top;\n",
       "    }\n",
       "\n",
       "    .dataframe thead th {\n",
       "        text-align: right;\n",
       "    }\n",
       "</style>\n",
       "<table border=\"1\" class=\"dataframe\">\n",
       "  <thead>\n",
       "    <tr style=\"text-align: right;\">\n",
       "      <th></th>\n",
       "      <th>학번</th>\n",
       "      <th>이름</th>\n",
       "      <th>중간고사</th>\n",
       "      <th>기말고사</th>\n",
       "    </tr>\n",
       "  </thead>\n",
       "  <tbody>\n",
       "    <tr>\n",
       "      <th>0</th>\n",
       "      <td>20201101</td>\n",
       "      <td>홍길동</td>\n",
       "      <td>90</td>\n",
       "      <td>100</td>\n",
       "    </tr>\n",
       "    <tr>\n",
       "      <th>1</th>\n",
       "      <td>20201102</td>\n",
       "      <td>성춘향</td>\n",
       "      <td>95</td>\n",
       "      <td>95</td>\n",
       "    </tr>\n",
       "    <tr>\n",
       "      <th>2</th>\n",
       "      <td>20201103</td>\n",
       "      <td>박문수</td>\n",
       "      <td>90</td>\n",
       "      <td>90</td>\n",
       "    </tr>\n",
       "  </tbody>\n",
       "</table>\n",
       "</div>"
      ],
      "text/plain": [
       "         학번   이름  중간고사  기말고사\n",
       "0  20201101  홍길동    90   100\n",
       "1  20201102  성춘향    95    95\n",
       "2  20201103  박문수    90    90"
      ]
     },
     "execution_count": 118,
     "metadata": {},
     "output_type": "execute_result"
    }
   ],
   "source": [
    "df3.head() #데이터프레임의 앞에서부터 5개 행을 출력"
   ]
  },
  {
   "cell_type": "code",
   "execution_count": 119,
   "id": "8efd1d93",
   "metadata": {},
   "outputs": [
    {
     "data": {
      "text/html": [
       "<div>\n",
       "<style scoped>\n",
       "    .dataframe tbody tr th:only-of-type {\n",
       "        vertical-align: middle;\n",
       "    }\n",
       "\n",
       "    .dataframe tbody tr th {\n",
       "        vertical-align: top;\n",
       "    }\n",
       "\n",
       "    .dataframe thead th {\n",
       "        text-align: right;\n",
       "    }\n",
       "</style>\n",
       "<table border=\"1\" class=\"dataframe\">\n",
       "  <thead>\n",
       "    <tr style=\"text-align: right;\">\n",
       "      <th></th>\n",
       "      <th>학번</th>\n",
       "      <th>이름</th>\n",
       "      <th>중간고사</th>\n",
       "      <th>기말고사</th>\n",
       "    </tr>\n",
       "  </thead>\n",
       "  <tbody>\n",
       "    <tr>\n",
       "      <th>2</th>\n",
       "      <td>20201103</td>\n",
       "      <td>박문수</td>\n",
       "      <td>90</td>\n",
       "      <td>90</td>\n",
       "    </tr>\n",
       "  </tbody>\n",
       "</table>\n",
       "</div>"
      ],
      "text/plain": [
       "         학번   이름  중간고사  기말고사\n",
       "2  20201103  박문수    90    90"
      ]
     },
     "execution_count": 119,
     "metadata": {},
     "output_type": "execute_result"
    }
   ],
   "source": [
    "df3.tail(1) #데이터프레임의 뒤에서부터 5개 행을 출력"
   ]
  },
  {
   "cell_type": "code",
   "execution_count": 120,
   "id": "f38d1630",
   "metadata": {},
   "outputs": [],
   "source": [
    "# dataframe을 csv파일로 저장\n",
    "df3.to_csv('score.csv', header = 'False')"
   ]
  },
  {
   "cell_type": "code",
   "execution_count": 125,
   "id": "84ecc5b4",
   "metadata": {},
   "outputs": [
    {
     "name": "stdout",
     "output_type": "stream",
     "text": [
      "         학번   이름  중간고사  기말고사\n",
      "0  20201101  홍길동    90   100\n",
      "1  20201102  성춘향    95    95\n",
      "2  20201103  박문수    90    90\n"
     ]
    }
   ],
   "source": [
    "#csv파일을 dataframe으로 읽어오기\n",
    "df4 = pd.read_csv('score.csv', encoding = 'utf-8', index_col=0, engine = 'python')\n",
    "print(df4)"
   ]
  },
  {
   "cell_type": "code",
   "execution_count": 3,
   "id": "95dff498",
   "metadata": {},
   "outputs": [
    {
     "name": "stdout",
     "output_type": "stream",
     "text": [
      "Requirement already satisfied: matplotlib in c:\\developer\\python39\\lib\\site-packages (3.4.2)\n",
      "Requirement already satisfied: python-dateutil>=2.7 in c:\\developer\\python39\\lib\\site-packages (from matplotlib) (2.8.1)\n",
      "Requirement already satisfied: cycler>=0.10 in c:\\developer\\python39\\lib\\site-packages (from matplotlib) (0.10.0)\n",
      "Requirement already satisfied: pyparsing>=2.2.1 in c:\\developer\\python39\\lib\\site-packages (from matplotlib) (2.4.7)\n",
      "Requirement already satisfied: numpy>=1.16 in c:\\developer\\python39\\lib\\site-packages (from matplotlib) (1.21.0)\n",
      "Requirement already satisfied: pillow>=6.2.0 in c:\\developer\\python39\\lib\\site-packages (from matplotlib) (8.3.1)\n",
      "Requirement already satisfied: kiwisolver>=1.0.1 in c:\\developer\\python39\\lib\\site-packages (from matplotlib) (1.3.1)\n",
      "Requirement already satisfied: six in c:\\developer\\python39\\lib\\site-packages (from cycler>=0.10->matplotlib) (1.16.0)\n"
     ]
    }
   ],
   "source": [
    "# matplotlib : 시각화 visualization를 파이썬 모듈\n",
    "# 설치 ; !pip install matplotlib\n",
    "!pip install matplotlib"
   ]
  },
  {
   "cell_type": "code",
   "execution_count": 1,
   "id": "0b6534e7",
   "metadata": {},
   "outputs": [],
   "source": [
    "# 모듈 import\n",
    "import matplotlib.pyplot as plt"
   ]
  },
  {
   "cell_type": "markdown",
   "id": "e8f777d4",
   "metadata": {},
   "source": [
    "figure : 그래프를 그려주기 위한 전체 영역 \\\n",
    "plot : 그래프 자체"
   ]
  },
  {
   "cell_type": "code",
   "execution_count": 24,
   "id": "e93b5773",
   "metadata": {},
   "outputs": [
    {
     "data": {
      "image/png": "[encoded data removed]",
      "text/plain": [
       "<Figure size 432x288 with 1 Axes>"
      ]
     },
     "metadata": {
      "needs_background": "light"
     },
     "output_type": "display_data"
    }
   ],
   "source": [
    "plt.plot([1,2,3,4],[2,4,6,8], 'r^') # (x값 리스트, y값 리스트)\n",
    "plt.ylabel('score')\n",
    "plt.xlabel('xlabel')\n",
    "plt.show()"
   ]
  },
  {
   "cell_type": "code",
   "execution_count": 52,
   "id": "2d1ab9e4",
   "metadata": {},
   "outputs": [
    {
     "data": {
      "text/plain": [
       "[<matplotlib.lines.Line2D at 0x28783042370>,\n",
       " <matplotlib.lines.Line2D at 0x28783042340>,\n",
       " <matplotlib.lines.Line2D at 0x28783042520>]"
      ]
     },
     "execution_count": 52,
     "metadata": {},
     "output_type": "execute_result"
    },
    {
     "data": {
      "image/png": "[encoded data removed]",
      "text/plain": [
       "<Figure size 432x288 with 1 Axes>"
      ]
     },
     "metadata": {
      "needs_background": "light"
     },
     "output_type": "display_data"
    }
   ],
   "source": [
    "### import matplotlib.pyplot as plt\n",
    "import numpy as np\n",
    "\n",
    "t = np.arange(0., 5. , .2)\n",
    "# print(t)\n",
    "plt.axis([0, 10, 0 ,200])\n",
    "plt.plot(t, t, 'r--', t, t * 2, 'bs', t, t**3 , 'g^')"
   ]
  },
  {
   "cell_type": "code",
   "execution_count": 60,
   "id": "4a33125e",
   "metadata": {},
   "outputs": [
    {
     "data": {
      "image/png": "[encoded data removed]",
      "text/plain": [
       "<Figure size 432x288 with 4 Axes>"
      ]
     },
     "metadata": {
      "needs_background": "light"
     },
     "output_type": "display_data"
    }
   ],
   "source": [
    "# figure & plot \n",
    "import matplotlib.pyplot as plt\n",
    "\n",
    "figure = plt.figure()\n",
    "plot1 = figure.add_subplot(1,2,1) # figure의 행의갯수, 열의 갯수, 일련번호\n",
    "plot2 = figure.add_subplot(1,2,2)\n",
    "plot3 = figure.add_subplot(2,2,3)\n",
    "plot4 = figure.add_subplot(2,2,4)\n",
    "\n",
    "\n",
    "plot1.plot([0,2])\n",
    "plot2.plot([1,1])\n",
    "plot3.plot([2,0])\n",
    "plot4.plot([1,2])\n",
    "\n",
    "\n",
    "\n",
    "plt.show()"
   ]
  },
  {
   "cell_type": "code",
   "execution_count": 70,
   "id": "914eaee7",
   "metadata": {},
   "outputs": [
    {
     "data": {
      "image/png": "[encoded data removed]",
      "text/plain": [
       "<Figure size 432x288 with 1 Axes>"
      ]
     },
     "metadata": {
      "needs_background": "light"
     },
     "output_type": "display_data"
    }
   ],
   "source": [
    "figure = plt.figure()\n",
    "plot1 = figure.add_subplot(1,1,1)\n",
    "x = [0,2,4,6]\n",
    "y = [0,4,0,2]\n",
    "plot1.plot(x, y)\n",
    "plt.grid(True)\n",
    "plt.show()"
   ]
  },
  {
   "cell_type": "code",
   "execution_count": 71,
   "id": "306d1bd6",
   "metadata": {},
   "outputs": [
    {
     "data": {
      "image/png": "[encoded data removed]",
      "text/plain": [
       "<Figure size 432x432 with 1 Axes>"
      ]
     },
     "metadata": {
      "needs_background": "light"
     },
     "output_type": "display_data"
    }
   ],
   "source": [
    "from mpl_toolkits.mplot3d import Axes3D\n",
    "import matplotlib.pyplot as plt\n",
    "import numpy as np\n",
    "\n",
    "n = 100\n",
    "xmin, xmax, ymin, ymax, zmin, zmax = 0, 20, 0, 20, 0, 50\n",
    "cmin, cmax = 0, 2\n",
    "xs = np.array([(xmax - xmin) * np.random.random_sample() + xmin for i in range(n)])\n",
    "ys = np.array([(ymax - ymin) * np.random.random_sample() + ymin for i in range(n)])\n",
    "zs = np.array([(zmax - zmin) * np.random.random_sample() + zmin for i in range(n)])\n",
    "color = np.array([(cmax - cmin) * np.random.random_sample() + cmin for i in range(n)])\n",
    "\n",
    "plt.rcParams[\"figure.figsize\"] = (6, 6)\n",
    "fig = plt.figure()\n",
    "ax = fig.add_subplot(111, projection='3d')\n",
    "ax.scatter(xs, ys, zs, c=color, marker='o', s=15, cmap='Greens')\n",
    "plt.show()"
   ]
  },
  {
   "cell_type": "code",
   "execution_count": null,
   "id": "f73dfd62",
   "metadata": {},
   "outputs": [],
   "source": []
  },
  {
   "cell_type": "code",
   "execution_count": null,
   "id": "db96ff6a",
   "metadata": {},
   "outputs": [],
   "source": []
  },
  {
   "cell_type": "code",
   "execution_count": null,
   "id": "7adfde56",
   "metadata": {},
   "outputs": [],
   "source": []
  },
  {
   "cell_type": "code",
   "execution_count": null,
   "id": "a7d2b32f",
   "metadata": {},
   "outputs": [],
   "source": []
  },
  {
   "cell_type": "code",
   "execution_count": null,
   "id": "f921ea1f",
   "metadata": {},
   "outputs": [],
   "source": []
  }
 ],
 "metadata": {
  "kernelspec": {
   "display_name": "Python 3 (ipykernel)",
   "language": "python",
   "name": "python3"
  },
  "language_info": {
   "codemirror_mode": {
    "name": "ipython",
    "version": 3
   },
   "file_extension": ".py",
   "mimetype": "text/x-python",
   "name": "python",
   "nbconvert_exporter": "python",
   "pygments_lexer": "ipython3",
   "version": "3.9.6"
  }
 },
 "nbformat": 4,
 "nbformat_minor": 5
}
